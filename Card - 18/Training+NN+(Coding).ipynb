{
 "cells": [
  {
   "cell_type": "code",
   "execution_count": 1,
   "metadata": {
    "executionInfo": {
     "elapsed": 5357,
     "status": "ok",
     "timestamp": 1684388325682,
     "user": {
      "displayName": "Sahil Sheikh",
      "userId": "07547610742251332939"
     },
     "user_tz": -330
    },
    "id": "P4Y0viVsZ-Fo"
   },
   "outputs": [],
   "source": [
    "import torch\n",
    "import torch.nn as nn\n",
    "from torch.optim import SGD\n",
    "import matplotlib.pyplot as plt\n",
    "%matplotlib inline"
   ]
  },
  {
   "cell_type": "code",
   "execution_count": 2,
   "metadata": {
    "executionInfo": {
     "elapsed": 427,
     "status": "ok",
     "timestamp": 1684388345850,
     "user": {
      "displayName": "Sahil Sheikh",
      "userId": "07547610742251332939"
     },
     "user_tz": -330
    },
    "id": "ccqoXI3RZsL0"
   },
   "outputs": [],
   "source": [
    "# This is our dataset, we need to predict y given x\n",
    "x = [[1,2],[3,4],[5,6],[7,8]]\n",
    "y = [[3],[7],[11],[15]]"
   ]
  },
  {
   "cell_type": "code",
   "execution_count": 3,
   "metadata": {
    "executionInfo": {
     "elapsed": 420,
     "status": "ok",
     "timestamp": 1684388351407,
     "user": {
      "displayName": "Sahil Sheikh",
      "userId": "07547610742251332939"
     },
     "user_tz": -330
    },
    "id": "0L69Nt7sZ7if"
   },
   "outputs": [],
   "source": [
    "# Converting lists to tensors to be able to use with pytorch\n",
    "X = torch.tensor(x).float()\n",
    "Y = torch.tensor(y).float()\n",
    "# .float is to convert the datatype to float"
   ]
  },
  {
   "cell_type": "code",
   "execution_count": 4,
   "metadata": {
    "executionInfo": {
     "elapsed": 413,
     "status": "ok",
     "timestamp": 1684388359889,
     "user": {
      "displayName": "Sahil Sheikh",
      "userId": "07547610742251332939"
     },
     "user_tz": -330
    },
    "id": "FSqyXYeWaBP3"
   },
   "outputs": [],
   "source": [
    "device = 'cuda' if torch.cuda.is_available() else 'cpu'\n",
    "X = X.to(device)\n",
    "Y = Y.to(device)"
   ]
  },
  {
   "cell_type": "code",
   "execution_count": 9,
   "metadata": {
    "executionInfo": {
     "elapsed": 392,
     "status": "ok",
     "timestamp": 1684388451335,
     "user": {
      "displayName": "Sahil Sheikh",
      "userId": "07547610742251332939"
     },
     "user_tz": -330
    },
    "id": "FGmBAWpMZmVY"
   },
   "outputs": [],
   "source": [
    "class MyNeuralNet(nn.Module):\n",
    "  def __init__(self):  \n",
    "    # When we call the super.__init__() method we ensure we are inhertiting   \n",
    "    super().__init__()\n",
    "    self.layer1 = nn.Linear(2,8) # A linear layer\n",
    "    self.activation = nn.ReLU() # activation function\n",
    "    self.layer2 =  nn.Linear(8,1)\n",
    "\n",
    "  # When we pass something through the model object, it calls the forward function \n",
    "  def forward(self,x):\n",
    "    x = self.layer1(x)\n",
    "    x = self.activation(x)\n",
    "    x = self.layer2(x)\n",
    "    return x"
   ]
  },
  {
   "cell_type": "code",
   "execution_count": 10,
   "metadata": {
    "executionInfo": {
     "elapsed": 396,
     "status": "ok",
     "timestamp": 1684388462867,
     "user": {
      "displayName": "Sahil Sheikh",
      "userId": "07547610742251332939"
     },
     "user_tz": -330
    },
    "id": "YvfQr8gmaZSH"
   },
   "outputs": [],
   "source": [
    "model = MyNeuralNet()"
   ]
  },
  {
   "cell_type": "code",
   "execution_count": 11,
   "metadata": {
    "executionInfo": {
     "elapsed": 1,
     "status": "ok",
     "timestamp": 1684388464306,
     "user": {
      "displayName": "Sahil Sheikh",
      "userId": "07547610742251332939"
     },
     "user_tz": -330
    },
    "id": "4ZtZgsqRak44"
   },
   "outputs": [],
   "source": [
    "loss_func = nn.MSELoss()"
   ]
  },
  {
   "cell_type": "code",
   "execution_count": null,
   "metadata": {
    "id": "wkFL2BRPo855"
   },
   "outputs": [],
   "source": []
  },
  {
   "cell_type": "code",
   "execution_count": 12,
   "metadata": {
    "executionInfo": {
     "elapsed": 398,
     "status": "ok",
     "timestamp": 1684388468910,
     "user": {
      "displayName": "Sahil Sheikh",
      "userId": "07547610742251332939"
     },
     "user_tz": -330
    },
    "id": "bD7hVLJjZxPL"
   },
   "outputs": [],
   "source": [
    "opt = SGD(model.parameters(), lr = 0.001)"
   ]
  },
  {
   "cell_type": "code",
   "execution_count": null,
   "metadata": {
    "id": "YRj0BfGnawmX"
   },
   "outputs": [],
   "source": []
  },
  {
   "cell_type": "code",
   "execution_count": 13,
   "metadata": {
    "executionInfo": {
     "elapsed": 3,
     "status": "ok",
     "timestamp": 1684388476595,
     "user": {
      "displayName": "Sahil Sheikh",
      "userId": "07547610742251332939"
     },
     "user_tz": -330
    },
    "id": "SWIDMnuXa0Xx"
   },
   "outputs": [],
   "source": [
    "losses = []\n",
    "for _ in range(50): #Running for 50 epochs\n",
    "  opt.zero_grad() # Setting gradients to zero before every epoch\n",
    "  loss_value = loss_func(model(X),Y)\n",
    "  #  the gradients of the loss function with respect to all the trainable parameters of the network are computed and stored in the grad attribute of the corresponding tensors.\n",
    "  loss_value.backward()\n",
    "\n",
    "  # opt.step() is to update the weights and biases of the neural network using the computed gradients and the chosen optimization algorithm\n",
    "  opt.step() \n",
    "  losses.append(loss_value.detach().numpy())"
   ]
  },
  {
   "cell_type": "code",
   "execution_count": null,
   "metadata": {
    "colab": {
     "base_uri": "https://localhost:8080/",
     "height": 489
    },
    "executionInfo": {
     "elapsed": 4,
     "status": "ok",
     "timestamp": 1682359503726,
     "user": {
      "displayName": "Sahil Sheikh",
      "userId": "07547610742251332939"
     },
     "user_tz": -330
    },
    "id": "rYZmFtzTbqa0",
    "outputId": "df866304-807f-4076-aa8a-1c19e5d9e9a9"
   },
   "outputs": [
    {
     "data": {
      "text/plain": [
       "Text(0, 0.5, 'loss value')"
      ]
     },
     "execution_count": 17,
     "metadata": {},
     "output_type": "execute_result"
    },
    {
     "data": {
      "image/png": "[encoded data removed]",
      "text/plain": [
       "<Figure size 640x480 with 1 Axes>"
      ]
     },
     "metadata": {},
     "output_type": "display_data"
    }
   ],
   "source": [
    "plt.plot(losses)\n",
    "plt.title('Loss variation over increasing epochs')\n",
    "plt.xlabel('epochs')\n",
    "plt.ylabel('loss value')"
   ]
  }
 ],
 "metadata": {
  "colab": {
   "authorship_tag": "ABX9TyNPbbjpbPltng8AmNtwlcCC",
   "provenance": []
  },
  "kernelspec": {
   "display_name": "Python 3 (ipykernel)",
   "language": "python",
   "name": "python3"
  },
  "language_info": {
   "codemirror_mode": {
    "name": "ipython",
    "version": 3
   },
   "file_extension": ".py",
   "mimetype": "text/x-python",
   "name": "python",
   "nbconvert_exporter": "python",
   "pygments_lexer": "ipython3",
   "version": "3.9.19"
  }
 },
 "nbformat": 4,
 "nbformat_minor": 4
}
