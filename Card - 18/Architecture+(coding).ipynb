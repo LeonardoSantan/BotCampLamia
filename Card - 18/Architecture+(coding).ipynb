{
 "cells": [
  {
   "cell_type": "code",
   "execution_count": 13,
   "metadata": {
    "executionInfo": {
     "elapsed": 5577,
     "status": "ok",
     "timestamp": 1684320762524,
     "user": {
      "displayName": "Sahil Sheikh",
      "userId": "07547610742251332939"
     },
     "user_tz": -330
    },
    "id": "EnrQIqrrVMRR"
   },
   "outputs": [],
   "source": [
    "import torch\n",
    "from torchviz import make_dot"
   ]
  },
  {
   "cell_type": "code",
   "execution_count": 14,
   "metadata": {
    "executionInfo": {
     "elapsed": 411,
     "status": "ok",
     "timestamp": 1684321493335,
     "user": {
      "displayName": "Sahil Sheikh",
      "userId": "07547610742251332939"
     },
     "user_tz": -330
    },
    "id": "Mf_PGBq3WLa3"
   },
   "outputs": [],
   "source": [
    "# It is evident that y is a sum of elements of x\n",
    "x = [[1,2],[3,4],[5,6],[7,8]]\n",
    "y = [[3],[7],[11],[15]]"
   ]
  },
  {
   "cell_type": "code",
   "execution_count": 15,
   "metadata": {
    "executionInfo": {
     "elapsed": 618,
     "status": "ok",
     "timestamp": 1684321497933,
     "user": {
      "displayName": "Sahil Sheikh",
      "userId": "07547610742251332939"
     },
     "user_tz": -330
    },
    "id": "yXwW7BXCWSQL"
   },
   "outputs": [],
   "source": [
    "# Converting lists to tensors to be able to use with pytorch\n",
    "X = torch.tensor(x).float()\n",
    "Y = torch.tensor(y).float()\n",
    "# .float is to convert the datatype to float"
   ]
  },
  {
   "cell_type": "code",
   "execution_count": 16,
   "metadata": {
    "colab": {
     "base_uri": "https://localhost:8080/"
    },
    "executionInfo": {
     "elapsed": 630,
     "status": "ok",
     "timestamp": 1684321503390,
     "user": {
      "displayName": "Sahil Sheikh",
      "userId": "07547610742251332939"
     },
     "user_tz": -330
    },
    "id": "xrO7JgOFWgWu",
    "outputId": "4b6fb907-41b7-4e23-bceb-60bd09f7c787"
   },
   "outputs": [
    {
     "name": "stdout",
     "output_type": "stream",
     "text": [
      "cpu\n"
     ]
    }
   ],
   "source": [
    "device = 'cuda' if torch.cuda.is_available() else 'cpu'\n",
    "print(device)"
   ]
  },
  {
   "cell_type": "code",
   "execution_count": 17,
   "metadata": {
    "executionInfo": {
     "elapsed": 2,
     "status": "ok",
     "timestamp": 1684321503802,
     "user": {
      "displayName": "Sahil Sheikh",
      "userId": "07547610742251332939"
     },
     "user_tz": -330
    },
    "id": "Jk_ArEBIWmuP"
   },
   "outputs": [],
   "source": [
    "X = X.to(device)\n",
    "Y = Y.to(device)"
   ]
  },
  {
   "cell_type": "code",
   "execution_count": 18,
   "metadata": {
    "executionInfo": {
     "elapsed": 423,
     "status": "ok",
     "timestamp": 1684321507573,
     "user": {
      "displayName": "Sahil Sheikh",
      "userId": "07547610742251332939"
     },
     "user_tz": -330
    },
    "id": "DzgwLkZDXHbC"
   },
   "outputs": [],
   "source": [
    "# nn means Neural Network\n",
    "import torch.nn as nn"
   ]
  },
  {
   "cell_type": "code",
   "execution_count": 19,
   "metadata": {
    "executionInfo": {
     "elapsed": 1,
     "status": "ok",
     "timestamp": 1684321508803,
     "user": {
      "displayName": "Sahil Sheikh",
      "userId": "07547610742251332939"
     },
     "user_tz": -330
    },
    "id": "LwIORzAaXXXk"
   },
   "outputs": [],
   "source": [
    "class MyNeuralNet(nn.Module):\n",
    "  def __init__(self):  \n",
    "    # When we call the super.__init__() method we ensure we are inhertiting   \n",
    "    super().__init__()\n",
    "    self.layer1 = nn.Linear(2,8) # A linear layer\n",
    "    self.activation = nn.ReLU() # activation function\n",
    "    self.layer2 =  nn.Linear(8,1)\n",
    "\n",
    "  # When we pass something through the model object, it calls the forward method \n",
    "  def forward(self,x):\n",
    "    x = self.layer1(x)\n",
    "    x = self.activation(x)\n",
    "    x = self.layer2(x)\n",
    "    return x"
   ]
  },
  {
   "cell_type": "code",
   "execution_count": 20,
   "metadata": {
    "executionInfo": {
     "elapsed": 391,
     "status": "ok",
     "timestamp": 1684320792850,
     "user": {
      "displayName": "Sahil Sheikh",
      "userId": "07547610742251332939"
     },
     "user_tz": -330
    },
    "id": "MAkzvE-wYoxt"
   },
   "outputs": [],
   "source": [
    "model = MyNeuralNet()"
   ]
  },
  {
   "cell_type": "code",
   "execution_count": 21,
   "metadata": {
    "colab": {
     "base_uri": "https://localhost:8080/",
     "height": 36
    },
    "executionInfo": {
     "elapsed": 406,
     "status": "ok",
     "timestamp": 1684320795197,
     "user": {
      "displayName": "Sahil Sheikh",
      "userId": "07547610742251332939"
     },
     "user_tz": -330
    },
    "id": "kte9lLkcYi8N",
    "outputId": "1947ef15-dc09-41bc-e693-a12c88110524"
   },
   "outputs": [
    {
     "data": {
      "text/plain": [
       "'dense_network.png'"
      ]
     },
     "execution_count": 21,
     "metadata": {},
     "output_type": "execute_result"
    }
   ],
   "source": [
    "make_dot(model(X), params=dict(model.named_parameters())).render(\"dense_network\", format=\"png\")"
   ]
  },
  {
   "cell_type": "code",
   "execution_count": 22,
   "metadata": {
    "colab": {
     "base_uri": "https://localhost:8080/"
    },
    "executionInfo": {
     "elapsed": 6,
     "status": "ok",
     "timestamp": 1682274815221,
     "user": {
      "displayName": "Sahil Sheikh",
      "userId": "07547610742251332939"
     },
     "user_tz": -330
    },
    "id": "5kiwAkGWZH6L",
    "outputId": "dfe7dd07-2349-4ce4-9eab-562ca79868e5"
   },
   "outputs": [
    {
     "data": {
      "text/plain": [
       "torch.Size([4, 2])"
      ]
     },
     "execution_count": 22,
     "metadata": {},
     "output_type": "execute_result"
    }
   ],
   "source": [
    "X.shape"
   ]
  },
  {
   "cell_type": "code",
   "execution_count": 23,
   "metadata": {
    "colab": {
     "base_uri": "https://localhost:8080/"
    },
    "executionInfo": {
     "elapsed": 610,
     "status": "ok",
     "timestamp": 1684321533501,
     "user": {
      "displayName": "Sahil Sheikh",
      "userId": "07547610742251332939"
     },
     "user_tz": -330
    },
    "id": "eU2tgI7LcV-S",
    "outputId": "3c47165a-42c4-4f6d-84c9-6dba2957a055"
   },
   "outputs": [
    {
     "data": {
      "text/plain": [
       "Parameter containing:\n",
       "tensor([[ 0.4350, -0.0652],\n",
       "        [ 0.5763,  0.5066],\n",
       "        [ 0.6911, -0.7012],\n",
       "        [ 0.1109, -0.4994],\n",
       "        [ 0.7046, -0.1226],\n",
       "        [ 0.4776,  0.3785],\n",
       "        [-0.0389, -0.7061],\n",
       "        [-0.1922,  0.4160]], requires_grad=True)"
      ]
     },
     "execution_count": 23,
     "metadata": {},
     "output_type": "execute_result"
    }
   ],
   "source": [
    "model.layer1.weight"
   ]
  },
  {
   "cell_type": "code",
   "execution_count": 24,
   "metadata": {
    "colab": {
     "base_uri": "https://localhost:8080/"
    },
    "executionInfo": {
     "elapsed": 1,
     "status": "ok",
     "timestamp": 1682275739514,
     "user": {
      "displayName": "Sahil Sheikh",
      "userId": "07547610742251332939"
     },
     "user_tz": -330
    },
    "id": "WCzhx7ZvcenH",
    "outputId": "f6233d09-8183-4f0d-b4bc-ecc40d45597b"
   },
   "outputs": [
    {
     "data": {
      "text/plain": [
       "Parameter containing:\n",
       "tensor([[ 0.4350, -0.0652],\n",
       "        [ 0.5763,  0.5066],\n",
       "        [ 0.6911, -0.7012],\n",
       "        [ 0.1109, -0.4994],\n",
       "        [ 0.7046, -0.1226],\n",
       "        [ 0.4776,  0.3785],\n",
       "        [-0.0389, -0.7061],\n",
       "        [-0.1922,  0.4160]], requires_grad=True)"
      ]
     },
     "execution_count": 24,
     "metadata": {},
     "output_type": "execute_result"
    }
   ],
   "source": [
    "model.parameters().__next__()"
   ]
  },
  {
   "cell_type": "code",
   "execution_count": null,
   "metadata": {},
   "outputs": [],
   "source": []
  }
 ],
 "metadata": {
  "colab": {
   "authorship_tag": "ABX9TyNyH9z8Z36Wk7W4/Wh0MCqF",
   "provenance": []
  },
  "kernelspec": {
   "display_name": "Python 3 (ipykernel)",
   "language": "python",
   "name": "python3"
  },
  "language_info": {
   "codemirror_mode": {
    "name": "ipython",
    "version": 3
   },
   "file_extension": ".py",
   "mimetype": "text/x-python",
   "name": "python",
   "nbconvert_exporter": "python",
   "pygments_lexer": "ipython3",
   "version": "3.9.19"
  }
 },
 "nbformat": 4,
 "nbformat_minor": 4
}
