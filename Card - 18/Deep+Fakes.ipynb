{
 "cells": [
  {
   "cell_type": "code",
   "execution_count": null,
   "metadata": {
    "id": "Ruita3lvG5AC"
   },
   "outputs": [],
   "source": [
    "import os\n",
    "if not os.path.exists('Faceswap-Deepfake-Pytorch'):\n",
    "    !wget -q https://www.dropbox.com/s/5ji7jl7httso9ny/person_images.zip\n",
    "    !wget -q https://raw.githubusercontent.com/sizhky/deep-fake-util/main/random_warp.py\n",
    "    !unzip -q person_images.zip\n",
    "!pip install -q torch_snippets torch_summary\n",
    "from torch_snippets import *\n",
    "from random_warp import get_training_data"
   ]
  },
  {
   "cell_type": "code",
   "execution_count": null,
   "metadata": {
    "executionInfo": {
     "elapsed": 2,
     "status": "ok",
     "timestamp": 1682773488695,
     "user": {
      "displayName": "Sahil Sheikh",
      "userId": "07547610742251332939"
     },
     "user_tz": -330
    },
    "id": "wlUSbWA4G8OT"
   },
   "outputs": [],
   "source": [
    "face_cascade = cv2.CascadeClassifier(cv2.data.haarcascades + 'haarcascade_frontalface_default.xml')"
   ]
  },
  {
   "cell_type": "code",
   "execution_count": null,
   "metadata": {
    "executionInfo": {
     "elapsed": 1,
     "status": "ok",
     "timestamp": 1682773488695,
     "user": {
      "displayName": "Sahil Sheikh",
      "userId": "07547610742251332939"
     },
     "user_tz": -330
    },
    "id": "xzyugp9VG98F"
   },
   "outputs": [],
   "source": [
    "def crop_face(img):\n",
    "    gray = cv2.cvtColor(img, cv2.COLOR_BGR2GRAY)\n",
    "    faces = face_cascade.detectMultiScale(gray, 1.3, 5)\n",
    "    if(len(faces)>0):\n",
    "        for (x,y,w,h) in faces:\n",
    "            img2 = img[y:(y+h),x:(x+w),:]\n",
    "        img2 = cv2.resize(img2,(256,256))\n",
    "        return img2, True\n",
    "    else:\n",
    "        return img, False"
   ]
  },
  {
   "cell_type": "code",
   "execution_count": null,
   "metadata": {
    "executionInfo": {
     "elapsed": 21256,
     "status": "ok",
     "timestamp": 1682773510652,
     "user": {
      "displayName": "Sahil Sheikh",
      "userId": "07547610742251332939"
     },
     "user_tz": -330
    },
    "id": "ZI6N7I01G_Dc"
   },
   "outputs": [],
   "source": [
    "!mkdir cropped_faces_personA\n",
    "!mkdir cropped_faces_personB\n",
    "\n",
    "def crop_images(folder):\n",
    "    images = Glob(folder+'/*.jpg')\n",
    "    for i in range(len(images)):\n",
    "        img = read(images[i],1)\n",
    "        img2, face_detected = crop_face(img)\n",
    "        if(face_detected==False):\n",
    "            continue\n",
    "        else:\n",
    "            cv2.imwrite('cropped_faces_'+folder+'/'+str(i)+'.jpg',cv2.cvtColor(img2, cv2.COLOR_RGB2BGR))\n",
    "crop_images('personA')\n",
    "crop_images('personB')"
   ]
  },
  {
   "cell_type": "code",
   "execution_count": null,
   "metadata": {
    "executionInfo": {
     "elapsed": 1566,
     "status": "ok",
     "timestamp": 1682773514154,
     "user": {
      "displayName": "Sahil Sheikh",
      "userId": "07547610742251332939"
     },
     "user_tz": -330
    },
    "id": "0NJ9LTtEHAg8"
   },
   "outputs": [],
   "source": [
    "class ImageDataset(Dataset):\n",
    "    def __init__(self, items_A, items_B):\n",
    "        self.items_A = np.concatenate([read(f,1)[None] for f in items_A])/255.\n",
    "        self.items_B = np.concatenate([read(f,1)[None] for f in items_B])/255.\n",
    "        self.items_A += self.items_B.mean(axis=(0, 1, 2)) - self.items_A.mean(axis=(0, 1, 2))\n",
    "\n",
    "    def __len__(self):\n",
    "        return min(len(self.items_A), len(self.items_B))\n",
    "    def __getitem__(self, ix):\n",
    "        a, b = choose(self.items_A), choose(self.items_B)\n",
    "        return a, b\n",
    "\n",
    "    def collate_fn(self, batch):\n",
    "        imsA, imsB = list(zip(*batch))\n",
    "        imsA, targetA = get_training_data(imsA, len(imsA))\n",
    "        imsB, targetB = get_training_data(imsB, len(imsB))\n",
    "        imsA, imsB, targetA, targetB = [torch.Tensor(i).permute(0,3,1,2).to(device) for i in [imsA, imsB, targetA, targetB]]\n",
    "        return imsA, imsB, targetA, targetB\n",
    "\n",
    "a = ImageDataset(Glob('cropped_faces_personA'), Glob('cropped_faces_personB'))\n",
    "x = DataLoader(a, batch_size=32, collate_fn=a.collate_fn)"
   ]
  },
  {
   "cell_type": "code",
   "execution_count": null,
   "metadata": {
    "colab": {
     "base_uri": "https://localhost:8080/",
     "height": 925
    },
    "executionInfo": {
     "elapsed": 8359,
     "status": "ok",
     "timestamp": 1682773522511,
     "user": {
      "displayName": "Sahil Sheikh",
      "userId": "07547610742251332939"
     },
     "user_tz": -330
    },
    "id": "T15FYoPCHCOA",
    "outputId": "ee16804d-9d62-4cd4-a4c8-bb347992b7ff"
   },
   "outputs": [],
   "source": [
    "inspect(*next(iter(x)))\n",
    "\n",
    "for i in next(iter(x)):\n",
    "    subplots(i[:8], nc=4, sz=(4,2))"
   ]
  },
  {
   "cell_type": "code",
   "execution_count": null,
   "metadata": {
    "executionInfo": {
     "elapsed": 6,
     "status": "ok",
     "timestamp": 1682773522512,
     "user": {
      "displayName": "Sahil Sheikh",
      "userId": "07547610742251332939"
     },
     "user_tz": -330
    },
    "id": "hCFnbIr2HDlk"
   },
   "outputs": [],
   "source": [
    "def _ConvLayer(input_features, output_features):\n",
    "    return nn.Sequential(\n",
    "        nn.Conv2d(input_features, output_features, kernel_size=5, stride=2, padding=2),\n",
    "        nn.LeakyReLU(0.1, inplace=True)\n",
    "    )\n",
    "\n",
    "def _UpScale(input_features, output_features):\n",
    "    return nn.Sequential(\n",
    "        nn.ConvTranspose2d(input_features, output_features, kernel_size=2, stride=2, padding=0),\n",
    "        nn.LeakyReLU(0.1, inplace=True)\n",
    "    )\n",
    "\n",
    "class Reshape(nn.Module):\n",
    "    def forward(self, input):\n",
    "        output = input.view(-1, 1024, 4, 4) # channel * 4 * 4\n",
    "        return output"
   ]
  },
  {
   "cell_type": "code",
   "execution_count": null,
   "metadata": {
    "executionInfo": {
     "elapsed": 5,
     "status": "ok",
     "timestamp": 1682773522512,
     "user": {
      "displayName": "Sahil Sheikh",
      "userId": "07547610742251332939"
     },
     "user_tz": -330
    },
    "id": "ybK_vHjHHFZ9"
   },
   "outputs": [],
   "source": [
    "class Autoencoder(nn.Module):\n",
    "    def __init__(self):\n",
    "        super(Autoencoder, self).__init__()\n",
    "\n",
    "        self.encoder = nn.Sequential(\n",
    "            _ConvLayer(3, 128),\n",
    "            _ConvLayer(128, 256),\n",
    "            _ConvLayer(256, 512),\n",
    "            _ConvLayer(512, 1024),\n",
    "            nn.Flatten(),\n",
    "            nn.Linear(1024 * 4 * 4, 1024),\n",
    "            nn.Linear(1024, 1024 * 4 * 4),\n",
    "            Reshape(),\n",
    "            _UpScale(1024, 512),\n",
    "        )\n",
    "\n",
    "        self.decoder_A = nn.Sequential(\n",
    "            _UpScale(512, 256),\n",
    "            _UpScale(256, 128),\n",
    "            _UpScale(128, 64),\n",
    "            nn.Conv2d(64, 3, kernel_size=3, padding=1),\n",
    "            nn.Sigmoid(),\n",
    "        )\n",
    "\n",
    "        self.decoder_B = nn.Sequential(\n",
    "            _UpScale(512, 256),\n",
    "            _UpScale(256, 128),\n",
    "            _UpScale(128, 64),\n",
    "            nn.Conv2d(64, 3, kernel_size=3, padding=1),\n",
    "            nn.Sigmoid(),\n",
    "        )\n",
    "\n",
    "    def forward(self, x, select='A'):\n",
    "        if select == 'A':\n",
    "            out = self.encoder(x)\n",
    "            out = self.decoder_A(out)\n",
    "        else:\n",
    "            out = self.encoder(x)\n",
    "            out = self.decoder_B(out)\n",
    "        return out"
   ]
  },
  {
   "cell_type": "code",
   "execution_count": null,
   "metadata": {
    "executionInfo": {
     "elapsed": 5,
     "status": "ok",
     "timestamp": 1682773522512,
     "user": {
      "displayName": "Sahil Sheikh",
      "userId": "07547610742251332939"
     },
     "user_tz": -330
    },
    "id": "WzqQPr-YHG_w"
   },
   "outputs": [],
   "source": [
    "def train_batch(model, data, criterion, optimizes):\n",
    "    optA, optB = optimizers\n",
    "    optA.zero_grad()\n",
    "    optB.zero_grad()\n",
    "    imgA, imgB, targetA, targetB = data\n",
    "    _imgA, _imgB = model(imgA, 'A'), model(imgB, 'B')\n",
    "\n",
    "    lossA = criterion(_imgA, targetA)\n",
    "    lossB = criterion(_imgB, targetB)\n",
    "    \n",
    "    lossA.backward()\n",
    "    lossB.backward()\n",
    "\n",
    "    optA.step()\n",
    "    optB.step()\n",
    "\n",
    "    return lossA.item(), lossB.item()"
   ]
  },
  {
   "cell_type": "code",
   "execution_count": null,
   "metadata": {
    "executionInfo": {
     "elapsed": 1953,
     "status": "ok",
     "timestamp": 1682773524461,
     "user": {
      "displayName": "Sahil Sheikh",
      "userId": "07547610742251332939"
     },
     "user_tz": -330
    },
    "id": "A6E2HDAxHJEZ"
   },
   "outputs": [],
   "source": [
    "model = Autoencoder().to(device)\n",
    "\n",
    "dataset = ImageDataset(Glob('cropped_faces_personA'), Glob('cropped_faces_personB'))\n",
    "dataloader = DataLoader(dataset, 32, collate_fn=dataset.collate_fn)\n",
    "\n",
    "optimizers = optim.Adam([{'params': model.encoder.parameters()},\n",
    "                          {'params': model.decoder_A.parameters()}],\n",
    "                        lr=5e-5, betas=(0.5, 0.999)), \\\n",
    "             optim.Adam([{'params': model.encoder.parameters()},\n",
    "                          {'params': model.decoder_B.parameters()}], \n",
    "                        lr=5e-5, betas=(0.5, 0.999))\n",
    "             \n",
    "criterion = nn.L1Loss()"
   ]
  },
  {
   "cell_type": "code",
   "execution_count": null,
   "metadata": {
    "colab": {
     "base_uri": "https://localhost:8080/",
     "height": 1000,
     "output_embedded_package_id": "1PiL1_d0KA5y65jCTUhzP8vtFCFBSqtP5"
    },
    "executionInfo": {
     "elapsed": 349673,
     "status": "error",
     "timestamp": 1682773874131,
     "user": {
      "displayName": "Sahil Sheikh",
      "userId": "07547610742251332939"
     },
     "user_tz": -330
    },
    "id": "C17I0In6HKJM",
    "outputId": "bc7fb2fd-7080-4975-c724-8cc8d2dcaa24"
   },
   "outputs": [],
   "source": [
    "n_epochs = 10000\n",
    "log = Report(n_epochs)\n",
    "!mkdir checkpoint\n",
    "for ex in range(n_epochs):\n",
    "    N = len(dataloader)\n",
    "    for bx,data in enumerate(dataloader):\n",
    "        lossA, lossB = train_batch(model, data, criterion, optimizers)\n",
    "        log.record(ex+(1+bx)/N, lossA=lossA, lossB=lossB, end='\\r')\n",
    "\n",
    "    log.report_avgs(ex+1)\n",
    "    if (ex+1)%100 == 0:\n",
    "        state = {\n",
    "                'state': model.state_dict(),\n",
    "                'epoch': ex\n",
    "            }\n",
    "        torch.save(state, './checkpoint/autoencoder.pth')\n",
    "\n",
    "    if (ex+1)%100 == 0:\n",
    "        bs = 5\n",
    "        a,b,A,B = data\n",
    "        line('A to B')\n",
    "        _a = model(a[:bs], 'A')\n",
    "        _b = model(a[:bs], 'B')\n",
    "        x = torch.cat([A[:bs],_a,_b])\n",
    "        subplots(x, nc=bs, figsize=(bs*2, 5))\n",
    "\n",
    "        line('B to A')\n",
    "        _a = model(b[:bs], 'A')\n",
    "        _b = model(b[:bs], 'B')\n",
    "        x = torch.cat([B[:bs],_a,_b])\n",
    "        subplots(x, nc=bs, figsize=(bs*2, 5))\n",
    "\n",
    "log.plot_epochs()"
   ]
  },
  {
   "cell_type": "code",
   "execution_count": null,
   "metadata": {},
   "outputs": [],
   "source": [
    "print(\"teste\")"
   ]
  },
  {
   "cell_type": "code",
   "execution_count": null,
   "metadata": {},
   "outputs": [],
   "source": []
  },
  {
   "cell_type": "code",
   "execution_count": null,
   "metadata": {},
   "outputs": [],
   "source": []
  },
  {
   "cell_type": "code",
   "execution_count": null,
   "metadata": {},
   "outputs": [],
   "source": []
  }
 ],
 "metadata": {
  "accelerator": "GPU",
  "colab": {
   "authorship_tag": "ABX9TyNuFOFOZwb5PdVPpcM1c0KE",
   "provenance": []
  },
  "gpuClass": "standard",
  "kernelspec": {
   "display_name": "Python 3 (ipykernel)",
   "language": "python",
   "name": "python3"
  },
  "language_info": {
   "codemirror_mode": {
    "name": "ipython",
    "version": 3
   },
   "file_extension": ".py",
   "mimetype": "text/x-python",
   "name": "python",
   "nbconvert_exporter": "python",
   "pygments_lexer": "ipython3",
   "version": "3.9.19"
  }
 },
 "nbformat": 4,
 "nbformat_minor": 4
}
