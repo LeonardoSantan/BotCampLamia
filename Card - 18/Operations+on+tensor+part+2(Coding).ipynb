{
 "cells": [
  {
   "cell_type": "code",
   "execution_count": 1,
   "metadata": {
    "executionInfo": {
     "elapsed": 7471,
     "status": "ok",
     "timestamp": 1684066658730,
     "user": {
      "displayName": "Sahil Sheikh",
      "userId": "07547610742251332939"
     },
     "user_tz": -330
    },
    "id": "07CC72Gh9aan"
   },
   "outputs": [],
   "source": [
    "import torch"
   ]
  },
  {
   "cell_type": "code",
   "execution_count": 2,
   "metadata": {
    "executionInfo": {
     "elapsed": 354,
     "status": "ok",
     "timestamp": 1684066905396,
     "user": {
      "displayName": "Sahil Sheikh",
      "userId": "07547610742251332939"
     },
     "user_tz": -330
    },
    "id": "lrWYMGbD9lHf"
   },
   "outputs": [],
   "source": [
    "x = torch.tensor([[1,2,3,4],[5,6,7,8]]) # shape = (2,4)\n",
    "y = torch.tensor([[1,2,3],\n",
    "                  [2,3,4],\n",
    "                  [4,5,6],\n",
    "                  [7,8,9]]) # shape = (4,3)"
   ]
  },
  {
   "cell_type": "code",
   "execution_count": 3,
   "metadata": {
    "colab": {
     "base_uri": "https://localhost:8080/"
    },
    "executionInfo": {
     "elapsed": 5,
     "status": "ok",
     "timestamp": 1684066906312,
     "user": {
      "displayName": "Sahil Sheikh",
      "userId": "07547610742251332939"
     },
     "user_tz": -330
    },
    "id": "CpDcUIar936Y",
    "outputId": "9556a2d2-e81b-4cca-9215-5ce44147b7fd"
   },
   "outputs": [
    {
     "data": {
      "text/plain": [
       "tensor([[ 45,  55,  65],\n",
       "        [101, 127, 153]])"
      ]
     },
     "execution_count": 3,
     "metadata": {},
     "output_type": "execute_result"
    }
   ],
   "source": [
    "# using torch.matmul()\n",
    "torch.matmul(x, y) # shape = (2,3)"
   ]
  },
  {
   "cell_type": "code",
   "execution_count": null,
   "metadata": {
    "id": "ywMyr8qm9_wf"
   },
   "outputs": [],
   "source": []
  },
  {
   "cell_type": "code",
   "execution_count": 4,
   "metadata": {
    "colab": {
     "base_uri": "https://localhost:8080/"
    },
    "executionInfo": {
     "elapsed": 2,
     "status": "ok",
     "timestamp": 1682253126212,
     "user": {
      "displayName": "Sahil Sheikh",
      "userId": "07547610742251332939"
     },
     "user_tz": -330
    },
    "id": "jiKC937NGLw-",
    "outputId": "d734298e-0fb8-4710-fc27-559e05cb0a16"
   },
   "outputs": [
    {
     "name": "stdout",
     "output_type": "stream",
     "text": [
      "Concatenated axis 1: torch.Size([1, 4, 5]) torch.Size([1, 8, 5])\n"
     ]
    }
   ],
   "source": [
    "x = torch.randn(1,4,5)\n",
    "z = torch.cat([x,x], axis=1)\n",
    "print('Concatenated axis 1:', x.shape, z.shape)\n",
    "# z tensor has shape (1,8,5)"
   ]
  },
  {
   "cell_type": "code",
   "execution_count": null,
   "metadata": {
    "id": "Y3VttCNyGWxA"
   },
   "outputs": [],
   "source": []
  },
  {
   "cell_type": "code",
   "execution_count": 5,
   "metadata": {
    "colab": {
     "base_uri": "https://localhost:8080/"
    },
    "executionInfo": {
     "elapsed": 3,
     "status": "ok",
     "timestamp": 1682253399783,
     "user": {
      "displayName": "Sahil Sheikh",
      "userId": "07547610742251332939"
     },
     "user_tz": -330
    },
    "id": "QhaRIMXyGr78",
    "outputId": "e3e7f423-0637-4022-c87c-39a968e1fcd7"
   },
   "outputs": [
    {
     "name": "stdout",
     "output_type": "stream",
     "text": [
      "Permute dimensions: torch.Size([3, 20, 10]) torch.Size([10, 3, 20])\n"
     ]
    }
   ],
   "source": [
    "x = torch.randn(3,20,10)\n",
    "z = x.permute(2,0,1)\n",
    "print('Permute dimensions:', x.shape, z.shape)"
   ]
  },
  {
   "cell_type": "code",
   "execution_count": null,
   "metadata": {
    "id": "3NuPdBSYHgf_"
   },
   "outputs": [],
   "source": []
  }
 ],
 "metadata": {
  "colab": {
   "authorship_tag": "ABX9TyMYqz4g87e2uue2e8mtcDm9",
   "provenance": []
  },
  "kernelspec": {
   "display_name": "Python 3 (ipykernel)",
   "language": "python",
   "name": "python3"
  },
  "language_info": {
   "codemirror_mode": {
    "name": "ipython",
    "version": 3
   },
   "file_extension": ".py",
   "mimetype": "text/x-python",
   "name": "python",
   "nbconvert_exporter": "python",
   "pygments_lexer": "ipython3",
   "version": "3.9.19"
  }
 },
 "nbformat": 4,
 "nbformat_minor": 4
}
