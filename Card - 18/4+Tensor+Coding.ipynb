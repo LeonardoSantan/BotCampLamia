{
 "cells": [
  {
   "cell_type": "code",
   "execution_count": 1,
   "metadata": {
    "executionInfo": {
     "elapsed": 6865,
     "status": "ok",
     "timestamp": 1684063275565,
     "user": {
      "displayName": "Sahil Sheikh",
      "userId": "07547610742251332939"
     },
     "user_tz": -330
    },
    "id": "t0BNp96wBp2K"
   },
   "outputs": [],
   "source": [
    "import torch"
   ]
  },
  {
   "cell_type": "code",
   "execution_count": 3,
   "metadata": {
    "colab": {
     "base_uri": "https://localhost:8080/"
    },
    "executionInfo": {
     "elapsed": 887,
     "status": "ok",
     "timestamp": 1684063426255,
     "user": {
      "displayName": "Sahil Sheikh",
      "userId": "07547610742251332939"
     },
     "user_tz": -330
    },
    "id": "jLQ9ObBHClv9",
    "outputId": "941c834d-7139-4cb5-9cb1-8cd0a823e7fb"
   },
   "outputs": [
    {
     "data": {
      "text/plain": [
       "torch.Size([2])"
      ]
     },
     "execution_count": 3,
     "metadata": {},
     "output_type": "execute_result"
    }
   ],
   "source": [
    "sample = torch.tensor([10,11])\n",
    "sample.shape"
   ]
  },
  {
   "cell_type": "code",
   "execution_count": 4,
   "metadata": {
    "colab": {
     "base_uri": "https://localhost:8080/"
    },
    "executionInfo": {
     "elapsed": 374,
     "status": "ok",
     "timestamp": 1684063443026,
     "user": {
      "displayName": "Sahil Sheikh",
      "userId": "07547610742251332939"
     },
     "user_tz": -330
    },
    "id": "bCTlmm3kCRbx",
    "outputId": "6da43983-8b8f-4f6f-b877-d7dc21d2b7dc"
   },
   "outputs": [
    {
     "data": {
      "text/plain": [
       "torch.Size([2, 2])"
      ]
     },
     "execution_count": 4,
     "metadata": {},
     "output_type": "execute_result"
    }
   ],
   "source": [
    "x = torch.tensor([[10,11],[1,2]])\n",
    "x.shape"
   ]
  },
  {
   "cell_type": "code",
   "execution_count": 5,
   "metadata": {
    "colab": {
     "base_uri": "https://localhost:8080/"
    },
    "executionInfo": {
     "elapsed": 362,
     "status": "ok",
     "timestamp": 1684063458062,
     "user": {
      "displayName": "Sahil Sheikh",
      "userId": "07547610742251332939"
     },
     "user_tz": -330
    },
    "id": "mnSdNgs6CbOV",
    "outputId": "1e29f7b4-7733-40d5-9eea-6b8c7427ebda"
   },
   "outputs": [
    {
     "data": {
      "text/plain": [
       "torch.Size([2, 1])"
      ]
     },
     "execution_count": 5,
     "metadata": {},
     "output_type": "execute_result"
    }
   ],
   "source": [
    "y = torch.tensor([[10],[11]])\n",
    "y.shape"
   ]
  },
  {
   "cell_type": "code",
   "execution_count": 6,
   "metadata": {
    "colab": {
     "base_uri": "https://localhost:8080/",
     "height": 36
    },
    "executionInfo": {
     "elapsed": 1601,
     "status": "ok",
     "timestamp": 1684063524397,
     "user": {
      "displayName": "Sahil Sheikh",
      "userId": "07547610742251332939"
     },
     "user_tz": -330
    },
    "id": "EwjuJK1LFS3C",
    "outputId": "4d6c88f3-d5d1-4ea5-9a87-12388245224e"
   },
   "outputs": [
    {
     "data": {
      "application/vnd.google.colaboratory.intrinsic+json": {
       "type": "string"
      },
      "text/plain": [
       "'tensor.html'"
      ]
     },
     "execution_count": 6,
     "metadata": {},
     "output_type": "execute_result"
    }
   ],
   "source": [
    "import torch\n",
    "import plotly.graph_objs as go\n",
    "import plotly.offline as pyo\n",
    "\n",
    "# Create a 3-dimensional tensor\n",
    "a = torch.tensor([[[1, 2], [3, 4]], [[5, 6], [7, 8]]])\n",
    "\n",
    "# Create a list of all the x, y, and z values in the tensor\n",
    "x_vals = []\n",
    "y_vals = []\n",
    "z_vals = []\n",
    "for i in range(a.shape[0]):\n",
    "    for j in range(a.shape[1]):\n",
    "        for k in range(a.shape[2]):\n",
    "            x_vals.append(i)\n",
    "            y_vals.append(j)\n",
    "            z_vals.append(k)\n",
    "\n",
    "# Create a Plotly 3D scatter plot\n",
    "trace = go.Scatter3d(\n",
    "    x=x_vals,\n",
    "    y=y_vals,\n",
    "    z=z_vals,\n",
    "    mode='markers',\n",
    "    marker=dict(\n",
    "        size=5,\n",
    "        color=a.flatten(),\n",
    "        colorscale='Viridis',\n",
    "        opacity=0.8\n",
    "    )\n",
    ")\n",
    "\n",
    "# Create the plot layout\n",
    "layout = go.Layout(\n",
    "    margin=dict(l=0, r=0, b=0, t=0),\n",
    "    scene=dict(\n",
    "        xaxis=dict(title='Dimension 1'),\n",
    "        yaxis=dict(title='Dimension 2'),\n",
    "        zaxis=dict(title='Dimension 3')\n",
    "    )\n",
    ")\n",
    "\n",
    "# Combine the trace and layout into a figure and display it\n",
    "fig = go.Figure(data=[trace], layout=layout)\n",
    "pyo.plot(fig, filename='tensor.html')\n"
   ]
  },
  {
   "cell_type": "markdown",
   "metadata": {
    "id": "CKoJDPrMIsMP"
   },
   "source": [
    "# Tensor with Random Numbers"
   ]
  },
  {
   "cell_type": "markdown",
   "metadata": {
    "id": "rXmk4oXDI2U-"
   },
   "source": [
    "torch.zeros((shape tuple))"
   ]
  },
  {
   "cell_type": "code",
   "execution_count": null,
   "metadata": {
    "colab": {
     "base_uri": "https://localhost:8080/"
    },
    "executionInfo": {
     "elapsed": 507,
     "status": "ok",
     "timestamp": 1682236981740,
     "user": {
      "displayName": "Sahil Sheikh",
      "userId": "07547610742251332939"
     },
     "user_tz": -330
    },
    "id": "hYTNDkhRIuje",
    "outputId": "d5b40dfb-d06d-4c51-ee34-9773eb2bba41"
   },
   "outputs": [
    {
     "data": {
      "text/plain": [
       "tensor([[0., 0., 0., 0.],\n",
       "        [0., 0., 0., 0.],\n",
       "        [0., 0., 0., 0.]])"
      ]
     },
     "execution_count": 16,
     "metadata": {},
     "output_type": "execute_result"
    }
   ],
   "source": [
    "torch.zeros((3, 4))"
   ]
  },
  {
   "cell_type": "code",
   "execution_count": null,
   "metadata": {
    "colab": {
     "base_uri": "https://localhost:8080/"
    },
    "executionInfo": {
     "elapsed": 3,
     "status": "ok",
     "timestamp": 1682237032155,
     "user": {
      "displayName": "Sahil Sheikh",
      "userId": "07547610742251332939"
     },
     "user_tz": -330
    },
    "id": "-u9FmBU3I_AY",
    "outputId": "f56a845c-86e7-4808-cd41-1108f5795cb9"
   },
   "outputs": [
    {
     "data": {
      "text/plain": [
       "tensor([[0., 0., 0., 0.],\n",
       "        [0., 0., 0., 0.],\n",
       "        [0., 0., 0., 0.]])"
      ]
     },
     "execution_count": 17,
     "metadata": {},
     "output_type": "execute_result"
    }
   ],
   "source": [
    "torch.zeros((3, 4))"
   ]
  },
  {
   "cell_type": "code",
   "execution_count": null,
   "metadata": {
    "colab": {
     "base_uri": "https://localhost:8080/"
    },
    "executionInfo": {
     "elapsed": 3,
     "status": "ok",
     "timestamp": 1682237036006,
     "user": {
      "displayName": "Sahil Sheikh",
      "userId": "07547610742251332939"
     },
     "user_tz": -330
    },
    "id": "BxFRlQcIIzpb",
    "outputId": "a7984ae8-00ce-45b4-83a6-94d5a10927b6"
   },
   "outputs": [
    {
     "data": {
      "text/plain": [
       "tensor([[6, 6, 7, 3],\n",
       "        [8, 6, 4, 1],\n",
       "        [9, 9, 6, 6]])"
      ]
     },
     "execution_count": 18,
     "metadata": {},
     "output_type": "execute_result"
    }
   ],
   "source": [
    "torch.randint(low=0, high=10, size=(3,4))"
   ]
  },
  {
   "cell_type": "code",
   "execution_count": null,
   "metadata": {
    "colab": {
     "base_uri": "https://localhost:8080/"
    },
    "executionInfo": {
     "elapsed": 3,
     "status": "ok",
     "timestamp": 1682237481586,
     "user": {
      "displayName": "Sahil Sheikh",
      "userId": "07547610742251332939"
     },
     "user_tz": -330
    },
    "id": "kBmbZRWdKsUc",
    "outputId": "762f1da2-274e-43b7-84f7-4d1081a08c05"
   },
   "outputs": [
    {
     "data": {
      "text/plain": [
       "tensor([[[0, 7],\n",
       "         [7, 5],\n",
       "         [3, 1],\n",
       "         [8, 0]],\n",
       "\n",
       "        [[2, 2],\n",
       "         [1, 3],\n",
       "         [9, 7],\n",
       "         [1, 1]],\n",
       "\n",
       "        [[4, 3],\n",
       "         [9, 8],\n",
       "         [6, 2],\n",
       "         [8, 8]]])"
      ]
     },
     "execution_count": 21,
     "metadata": {},
     "output_type": "execute_result"
    }
   ],
   "source": [
    "torch.randint(low=0, high=10, size=(3,4,2))"
   ]
  },
  {
   "cell_type": "code",
   "execution_count": null,
   "metadata": {
    "colab": {
     "base_uri": "https://localhost:8080/"
    },
    "executionInfo": {
     "elapsed": 4,
     "status": "ok",
     "timestamp": 1682237355968,
     "user": {
      "displayName": "Sahil Sheikh",
      "userId": "07547610742251332939"
     },
     "user_tz": -330
    },
    "id": "3j_P88DFJBGu",
    "outputId": "00c55120-9089-4565-ba57-37a825557100"
   },
   "outputs": [
    {
     "data": {
      "text/plain": [
       "tensor([[[6, 7, 2, 4],\n",
       "         [6, 8, 8, 2],\n",
       "         [1, 2, 4, 1],\n",
       "         [8, 8, 4, 4]],\n",
       "\n",
       "        [[4, 2, 4, 8],\n",
       "         [6, 3, 5, 3],\n",
       "         [8, 4, 9, 9],\n",
       "         [4, 2, 3, 2]],\n",
       "\n",
       "        [[8, 0, 6, 6],\n",
       "         [2, 7, 1, 6],\n",
       "         [2, 9, 5, 6],\n",
       "         [4, 1, 8, 8]]])"
      ]
     },
     "execution_count": 20,
     "metadata": {},
     "output_type": "execute_result"
    }
   ],
   "source": [
    "torch.randint(low=0, high=10, size=(3,4,4))"
   ]
  }
 ],
 "metadata": {
  "colab": {
   "authorship_tag": "ABX9TyN7GJC8sGDP2ZMtEBvILTYq",
   "provenance": []
  },
  "kernelspec": {
   "display_name": "Python 3 (ipykernel)",
   "language": "python",
   "name": "python3"
  },
  "language_info": {
   "codemirror_mode": {
    "name": "ipython",
    "version": 3
   },
   "file_extension": ".py",
   "mimetype": "text/x-python",
   "name": "python",
   "nbconvert_exporter": "python",
   "pygments_lexer": "ipython3",
   "version": "3.9.19"
  }
 },
 "nbformat": 4,
 "nbformat_minor": 4
}
