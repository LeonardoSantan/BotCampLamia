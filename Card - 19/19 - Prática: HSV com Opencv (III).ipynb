{
 "cells": [
  {
   "cell_type": "code",
   "execution_count": 1,
   "id": "bc76c9af-ec1b-4494-8323-52f807d7b026",
   "metadata": {},
   "outputs": [],
   "source": [
    "import cv2\n",
    "import numpy as np\n"
   ]
  },
  {
   "cell_type": "code",
   "execution_count": null,
   "id": "864b68b8-77dd-4745-a88a-5a9b992e4b73",
   "metadata": {},
   "outputs": [],
   "source": [
    "cap = cv2.VideoCapture(0)\n",
    "\n",
    "while True:\n",
    "    _, frame = cap.read()\n",
    "    hsv_frame = cv2.cvtColor(frame, cv2.COLOR_BGR2HSV)\n",
    "\n",
    "    # Vermelho\n",
    "    pouco_vermelho = np.array([161, 155, 84])\n",
    "    muito_vermelho = np.array([179, 255, 255])\n",
    "    red_mask = cv2.inRange(hsv_frame, pouco_vermelho, muito_vermelho)\n",
    "    red = cv2.bitwise_and(frame, frame, mask=red_mask)\n",
    "    # Azul\n",
    "    pouco_azul = np.array([94, 80, 2])\n",
    "    muito_azul = np.array([126, 255, 255])\n",
    "    azul_mask = cv2.inRange(hsv_frame, pouco_azul, muito_azul)\n",
    "    azul = cv2.bitwise_and(frame, frame, mask=azul_mask)\n",
    "    # Menos branco\n",
    "    all_menos_branco_baixo = np.array([0,42,0])\n",
    "    all_menos_branco_alto = np.array([179, 255, 255])\n",
    "    mask = cv2.inRange(hsv_frame, all_menos_branco_baixo, all_menos_branco_alto)\n",
    "    resultado = cv2.bitwise_and(frame, frame, mask=mask)\n",
    "    \n",
    "    pouco_verde = np.array([25, 52, 72])\n",
    "    muito_verde = np.array([102, 255, 255])\n",
    "    verde_mask = cv2.inRange(hsv_frame, pouco_verde, muito_verde)\n",
    "    verde = cv2.bitwise_and(frame, frame, mask=verde_mask)\n",
    "    \n",
    "    cv2.imshow(\"Frame\", frame)\n",
    "    # cv2.imshow(\"Red\", red)\n",
    "    # cv2.imshow(\"Blue\", azul)\n",
    "    # cv2.imshow(\"Green\", verde)\n",
    "    cv2.imshow(\"Tudo menos branco\", resultado)\n",
    "    \n",
    "    key = cv2.waitKey(1)\n",
    "    if key == 27:\n",
    "        break"
   ]
  },
  {
   "cell_type": "code",
   "execution_count": null,
   "id": "ad44545b-a2d1-4d20-a6e3-2bb77c21d214",
   "metadata": {},
   "outputs": [],
   "source": []
  }
 ],
 "metadata": {
  "kernelspec": {
   "display_name": "Python 3 (ipykernel)",
   "language": "python",
   "name": "python3"
  },
  "language_info": {
   "codemirror_mode": {
    "name": "ipython",
    "version": 3
   },
   "file_extension": ".py",
   "mimetype": "text/x-python",
   "name": "python",
   "nbconvert_exporter": "python",
   "pygments_lexer": "ipython3",
   "version": "3.9.19"
  }
 },
 "nbformat": 4,
 "nbformat_minor": 5
}
